{
 "cells": [
  {
   "cell_type": "code",
   "execution_count": 1,
   "metadata": {},
   "outputs": [],
   "source": [
    "import pandas as pd\n",
    "import warnings\n",
    "warnings.filterwarnings(\"ignore\")\n",
    "\n",
    "from funcs.ml_S16 import simulate_brackets, tourney_sim_test, analysis, tourney_sim_baseline, tourney_sim_perfect, get_teams, prep_model, train_model"
   ]
  },
  {
   "cell_type": "markdown",
   "metadata": {},
   "source": [
    "Testing"
   ]
  },
  {
   "cell_type": "code",
   "execution_count": 2,
   "metadata": {},
   "outputs": [],
   "source": [
    "YEAR = 2025"
   ]
  },
  {
   "cell_type": "code",
   "execution_count": 3,
   "metadata": {},
   "outputs": [],
   "source": [
    "dir = \"processed_data\""
   ]
  },
  {
   "cell_type": "code",
   "execution_count": 4,
   "metadata": {},
   "outputs": [
    {
     "name": "stdout",
     "output_type": "stream",
     "text": [
      "Brackets Simulated:\t\t5\n",
      "Average Upsets:\t\t\t3.2\n",
      "Average Bracket Score:\t\t128.0\n",
      "Average Bracket Round Scores:\t[32, 32, 32, 32]\n",
      "Max Bracket Score:\t\t128\n",
      "Max Bracket Round Scores:\t[32, 32, 32, 32]\n",
      "\n",
      "Brackets Simulated:\t\t10\n",
      "Average Upsets:\t\t\t3.5\n",
      "Average Bracket Score:\t\t128.0\n",
      "Average Bracket Round Scores:\t[32, 32, 32, 32]\n",
      "Max Bracket Score:\t\t128\n",
      "Max Bracket Round Scores:\t[32, 32, 32, 32]\n",
      "\n",
      "Brackets Simulated:\t\t15\n",
      "Average Upsets:\t\t\t3.3333333333333335\n",
      "Average Bracket Score:\t\t128.0\n",
      "Average Bracket Round Scores:\t[32, 32, 32, 32]\n",
      "Max Bracket Score:\t\t128\n",
      "Max Bracket Round Scores:\t[32, 32, 32, 32]\n",
      "\n",
      "Brackets Simulated:\t\t20\n",
      "Average Upsets:\t\t\t3.3\n",
      "Average Bracket Score:\t\t128.0\n",
      "Average Bracket Round Scores:\t[32, 32, 32, 32]\n",
      "Max Bracket Score:\t\t128\n",
      "Max Bracket Round Scores:\t[32, 32, 32, 32]\n",
      "\n",
      "Brackets Simulated:\t\t25\n",
      "Average Upsets:\t\t\t3.28\n",
      "Average Bracket Score:\t\t128.0\n",
      "Average Bracket Round Scores:\t[32, 32, 32, 32]\n",
      "Max Bracket Score:\t\t128\n",
      "Max Bracket Round Scores:\t[32, 32, 32, 32]\n",
      "\n",
      "Champion\n",
      "YEAR       2025\n",
      "TEAM     Auburn\n",
      "SEED          1\n",
      "ROUND         0\n",
      "Name: 1141, dtype: object\n",
      "\n",
      "\n",
      "Finals\n",
      "YEAR        2025\n",
      "TEAM     Houston\n",
      "SEED           1\n",
      "ROUND          0\n",
      "Name: 1126, dtype: object\n",
      "\n",
      "\n",
      "Final Four\n",
      "YEAR           2025\n",
      "TEAM     Texas Tech\n",
      "SEED              3\n",
      "ROUND             0\n",
      "Name: 1091, dtype: object\n",
      "\n",
      "YEAR     2025\n",
      "TEAM      BYU\n",
      "SEED        6\n",
      "ROUND       0\n",
      "Name: 1138, dtype: object\n",
      "\n",
      "\n",
      "Elite Eight\n",
      "YEAR            2025\n",
      "TEAM     Mississippi\n",
      "SEED               6\n",
      "ROUND              0\n",
      "Name: 1112, dtype: object\n",
      "\n",
      "YEAR         2025\n",
      "TEAM     Maryland\n",
      "SEED            4\n",
      "ROUND           0\n",
      "Name: 1117, dtype: object\n",
      "\n",
      "YEAR        2025\n",
      "TEAM     Arizona\n",
      "SEED           4\n",
      "ROUND          0\n",
      "Name: 1143, dtype: object\n",
      "\n",
      "YEAR         2025\n",
      "TEAM     Kentucky\n",
      "SEED            3\n",
      "ROUND           0\n",
      "Name: 1122, dtype: object\n",
      "\n",
      "\n"
     ]
    }
   ],
   "source": [
    "model, X_train, y_train, X_test, y_test, team_key, test_case, avg_score, max_score = simulate_brackets(input_directory = dir, year = YEAR, n = 25, n_mod = 5)\n",
    "teams, preds = tourney_sim_test(test_case, X_test, model, team_key, True)\n",
    "y_test: pd.Series = y_test.loc[teams]\n",
    "# analysis(y_test, preds)"
   ]
  },
  {
   "cell_type": "markdown",
   "metadata": {},
   "source": [
    "Baseline"
   ]
  },
  {
   "cell_type": "code",
   "execution_count": 5,
   "metadata": {},
   "outputs": [
    {
     "ename": "ValueError",
     "evalue": "At least one label specified must be in y_true",
     "output_type": "error",
     "traceback": [
      "\u001b[0;31m---------------------------------------------------------------------------\u001b[0m",
      "\u001b[0;31mValueError\u001b[0m                                Traceback (most recent call last)",
      "Cell \u001b[0;32mIn[5], line 3\u001b[0m\n\u001b[1;32m      1\u001b[0m teams, preds \u001b[38;5;241m=\u001b[39m tourney_sim_baseline(test_case, X_test, team_key, \u001b[38;5;28;01mFalse\u001b[39;00m)\n\u001b[1;32m      2\u001b[0m y_test: pd\u001b[38;5;241m.\u001b[39mSeries \u001b[38;5;241m=\u001b[39m y_test\u001b[38;5;241m.\u001b[39mloc[teams]\n\u001b[0;32m----> 3\u001b[0m \u001b[43manalysis\u001b[49m\u001b[43m(\u001b[49m\u001b[43my_test\u001b[49m\u001b[43m,\u001b[49m\u001b[43m \u001b[49m\u001b[43mpreds\u001b[49m\u001b[43m)\u001b[49m\n",
      "File \u001b[0;32m~/Visual Studio Code/personal/march_madness/funcs/ml_S16.py:33\u001b[0m, in \u001b[0;36manalysis\u001b[0;34m(y_test, preds)\u001b[0m\n\u001b[1;32m     29\u001b[0m \u001b[38;5;28;01mdef\u001b[39;00m \u001b[38;5;21manalysis\u001b[39m(y_test: \u001b[38;5;28mlist\u001b[39m, preds: \u001b[38;5;28mlist\u001b[39m):\n\u001b[1;32m     31\u001b[0m     labels \u001b[38;5;241m=\u001b[39m [\u001b[38;5;241m16\u001b[39m, \u001b[38;5;241m8\u001b[39m, \u001b[38;5;241m4\u001b[39m, \u001b[38;5;241m2\u001b[39m, \u001b[38;5;241m1\u001b[39m]\n\u001b[0;32m---> 33\u001b[0m     cm \u001b[38;5;241m=\u001b[39m \u001b[43mconfusion_matrix\u001b[49m\u001b[43m(\u001b[49m\u001b[43my_test\u001b[49m\u001b[43m,\u001b[49m\u001b[43m \u001b[49m\u001b[43mpreds\u001b[49m\u001b[43m,\u001b[49m\u001b[43m \u001b[49m\u001b[43mlabels\u001b[49m\u001b[43m \u001b[49m\u001b[38;5;241;43m=\u001b[39;49m\u001b[43m \u001b[49m\u001b[43mlabels\u001b[49m\u001b[43m)\u001b[49m\n\u001b[1;32m     35\u001b[0m     \u001b[38;5;28mprint\u001b[39m(\u001b[38;5;124m\"\u001b[39m\u001b[38;5;124mConfusion Matrix:\u001b[39m\u001b[38;5;124m\"\u001b[39m)\n\u001b[1;32m     37\u001b[0m     ConfusionMatrixDisplay(confusion_matrix\u001b[38;5;241m=\u001b[39mcm, display_labels\u001b[38;5;241m=\u001b[39mlabels)\u001b[38;5;241m.\u001b[39mplot()\n",
      "File \u001b[0;32m~/.pyenv/versions/3.12.2/lib/python3.12/site-packages/sklearn/utils/_param_validation.py:213\u001b[0m, in \u001b[0;36mvalidate_params.<locals>.decorator.<locals>.wrapper\u001b[0;34m(*args, **kwargs)\u001b[0m\n\u001b[1;32m    207\u001b[0m \u001b[38;5;28;01mtry\u001b[39;00m:\n\u001b[1;32m    208\u001b[0m     \u001b[38;5;28;01mwith\u001b[39;00m config_context(\n\u001b[1;32m    209\u001b[0m         skip_parameter_validation\u001b[38;5;241m=\u001b[39m(\n\u001b[1;32m    210\u001b[0m             prefer_skip_nested_validation \u001b[38;5;129;01mor\u001b[39;00m global_skip_validation\n\u001b[1;32m    211\u001b[0m         )\n\u001b[1;32m    212\u001b[0m     ):\n\u001b[0;32m--> 213\u001b[0m         \u001b[38;5;28;01mreturn\u001b[39;00m \u001b[43mfunc\u001b[49m\u001b[43m(\u001b[49m\u001b[38;5;241;43m*\u001b[39;49m\u001b[43margs\u001b[49m\u001b[43m,\u001b[49m\u001b[43m \u001b[49m\u001b[38;5;241;43m*\u001b[39;49m\u001b[38;5;241;43m*\u001b[39;49m\u001b[43mkwargs\u001b[49m\u001b[43m)\u001b[49m\n\u001b[1;32m    214\u001b[0m \u001b[38;5;28;01mexcept\u001b[39;00m InvalidParameterError \u001b[38;5;28;01mas\u001b[39;00m e:\n\u001b[1;32m    215\u001b[0m     \u001b[38;5;66;03m# When the function is just a wrapper around an estimator, we allow\u001b[39;00m\n\u001b[1;32m    216\u001b[0m     \u001b[38;5;66;03m# the function to delegate validation to the estimator, but we replace\u001b[39;00m\n\u001b[1;32m    217\u001b[0m     \u001b[38;5;66;03m# the name of the estimator by the name of the function in the error\u001b[39;00m\n\u001b[1;32m    218\u001b[0m     \u001b[38;5;66;03m# message to avoid confusion.\u001b[39;00m\n\u001b[1;32m    219\u001b[0m     msg \u001b[38;5;241m=\u001b[39m re\u001b[38;5;241m.\u001b[39msub(\n\u001b[1;32m    220\u001b[0m         \u001b[38;5;124mr\u001b[39m\u001b[38;5;124m\"\u001b[39m\u001b[38;5;124mparameter of \u001b[39m\u001b[38;5;124m\\\u001b[39m\u001b[38;5;124mw+ must be\u001b[39m\u001b[38;5;124m\"\u001b[39m,\n\u001b[1;32m    221\u001b[0m         \u001b[38;5;124mf\u001b[39m\u001b[38;5;124m\"\u001b[39m\u001b[38;5;124mparameter of \u001b[39m\u001b[38;5;132;01m{\u001b[39;00mfunc\u001b[38;5;241m.\u001b[39m\u001b[38;5;18m__qualname__\u001b[39m\u001b[38;5;132;01m}\u001b[39;00m\u001b[38;5;124m must be\u001b[39m\u001b[38;5;124m\"\u001b[39m,\n\u001b[1;32m    222\u001b[0m         \u001b[38;5;28mstr\u001b[39m(e),\n\u001b[1;32m    223\u001b[0m     )\n",
      "File \u001b[0;32m~/.pyenv/versions/3.12.2/lib/python3.12/site-packages/sklearn/metrics/_classification.py:342\u001b[0m, in \u001b[0;36mconfusion_matrix\u001b[0;34m(y_true, y_pred, labels, sample_weight, normalize)\u001b[0m\n\u001b[1;32m    340\u001b[0m         \u001b[38;5;28;01mreturn\u001b[39;00m np\u001b[38;5;241m.\u001b[39mzeros((n_labels, n_labels), dtype\u001b[38;5;241m=\u001b[39m\u001b[38;5;28mint\u001b[39m)\n\u001b[1;32m    341\u001b[0m     \u001b[38;5;28;01melif\u001b[39;00m \u001b[38;5;28mlen\u001b[39m(np\u001b[38;5;241m.\u001b[39mintersect1d(y_true, labels)) \u001b[38;5;241m==\u001b[39m \u001b[38;5;241m0\u001b[39m:\n\u001b[0;32m--> 342\u001b[0m         \u001b[38;5;28;01mraise\u001b[39;00m \u001b[38;5;167;01mValueError\u001b[39;00m(\u001b[38;5;124m\"\u001b[39m\u001b[38;5;124mAt least one label specified must be in y_true\u001b[39m\u001b[38;5;124m\"\u001b[39m)\n\u001b[1;32m    344\u001b[0m \u001b[38;5;28;01mif\u001b[39;00m sample_weight \u001b[38;5;129;01mis\u001b[39;00m \u001b[38;5;28;01mNone\u001b[39;00m:\n\u001b[1;32m    345\u001b[0m     sample_weight \u001b[38;5;241m=\u001b[39m np\u001b[38;5;241m.\u001b[39mones(y_true\u001b[38;5;241m.\u001b[39mshape[\u001b[38;5;241m0\u001b[39m], dtype\u001b[38;5;241m=\u001b[39mnp\u001b[38;5;241m.\u001b[39mint64)\n",
      "\u001b[0;31mValueError\u001b[0m: At least one label specified must be in y_true"
     ]
    }
   ],
   "source": [
    "teams, preds = tourney_sim_baseline(test_case, X_test, team_key, False)\n",
    "y_test: pd.Series = y_test.loc[teams]\n",
    "analysis(y_test, preds)"
   ]
  },
  {
   "cell_type": "markdown",
   "metadata": {},
   "source": [
    "Perfect"
   ]
  },
  {
   "cell_type": "code",
   "execution_count": null,
   "metadata": {},
   "outputs": [
    {
     "name": "stdout",
     "output_type": "stream",
     "text": [
      "Confusion Matrix:\n"
     ]
    },
    {
     "data": {
      "image/png": "[encoded data removed]",
      "text/plain": [
       "<Figure size 640x480 with 2 Axes>"
      ]
     },
     "metadata": {},
     "output_type": "display_data"
    },
    {
     "name": "stdout",
     "output_type": "stream",
     "text": [
      "\n",
      "Bracket Score: (192, [32, 32, 32, 32, 32, 32])\n",
      "\n",
      "R Score: 0.7255488712478293\n",
      "\n",
      "Accuracy Score: 0.515625\n",
      "\n"
     ]
    }
   ],
   "source": [
    "teams, preds = tourney_sim_perfect(test_case, X_test, team_key, False)\n",
    "y_test: pd.Series = y_test.loc[teams]\n",
    "analysis(y_test, preds)"
   ]
  }
 ],
 "metadata": {
  "kernelspec": {
   "display_name": "3.12.2",
   "language": "python",
   "name": "python3"
  },
  "language_info": {
   "codemirror_mode": {
    "name": "ipython",
    "version": 3
   },
   "file_extension": ".py",
   "mimetype": "text/x-python",
   "name": "python",
   "nbconvert_exporter": "python",
   "pygments_lexer": "ipython3",
   "version": "3.12.2"
  }
 },
 "nbformat": 4,
 "nbformat_minor": 2
}
