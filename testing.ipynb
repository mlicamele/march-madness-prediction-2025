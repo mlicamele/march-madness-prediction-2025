{
 "cells": [
  {
   "cell_type": "code",
   "execution_count": 1,
   "metadata": {},
   "outputs": [],
   "source": [
    "import pandas as pd\n",
    "import warnings\n",
    "warnings.filterwarnings(\"ignore\")\n",
    "\n",
    "from funcs.ml import simulate_brackets, tourney_sim_test, analysis, tourney_sim_baseline, tourney_sim_perfect, get_teams, prep_model, train_model"
   ]
  },
  {
   "cell_type": "markdown",
   "metadata": {},
   "source": [
    "Testing"
   ]
  },
  {
   "cell_type": "code",
   "execution_count": null,
   "metadata": {},
   "outputs": [],
   "source": [
    "YEAR = 2025"
   ]
  },
  {
   "cell_type": "code",
   "execution_count": 3,
   "metadata": {},
   "outputs": [],
   "source": [
    "dir = \"processed_data\""
   ]
  },
  {
   "cell_type": "code",
   "execution_count": null,
   "metadata": {},
   "outputs": [
    {
     "name": "stdout",
     "output_type": "stream",
     "text": [
      "Brackets Simulated:\t\t5\n",
      "Average Upsets:\t\t\t6.0\n",
      "Average Bracket Score:\t\t179.8\n",
      "Average Bracket Round Scores:\t[32, 32, 32, 31, 28, 23]\n",
      "Max Bracket Score:\t\t183\n",
      "Max Bracket Round Scores:\t[32, 32, 32, 32, 30, 25]\n",
      "\n",
      "Brackets Simulated:\t\t10\n",
      "Average Upsets:\t\t\t5.5\n",
      "Average Bracket Score:\t\t178.4\n",
      "Average Bracket Round Scores:\t[32, 32, 31, 30, 29, 23]\n",
      "Max Bracket Score:\t\t183\n",
      "Max Bracket Round Scores:\t[32, 32, 32, 32, 30, 25]\n",
      "\n",
      "Brackets Simulated:\t\t15\n",
      "Average Upsets:\t\t\t5.466666666666667\n",
      "Average Bracket Score:\t\t178.93333333333334\n",
      "Average Bracket Round Scores:\t[32, 32, 31, 31, 29, 23]\n",
      "Max Bracket Score:\t\t183\n",
      "Max Bracket Round Scores:\t[32, 32, 32, 32, 30, 25]\n",
      "\n",
      "Brackets Simulated:\t\t20\n",
      "Average Upsets:\t\t\t5.7\n",
      "Average Bracket Score:\t\t178.25\n",
      "Average Bracket Round Scores:\t[32, 32, 31, 30, 29, 23]\n",
      "Max Bracket Score:\t\t183\n",
      "Max Bracket Round Scores:\t[32, 32, 32, 32, 30, 25]\n",
      "\n",
      "Brackets Simulated:\t\t25\n",
      "Average Upsets:\t\t\t5.52\n",
      "Average Bracket Score:\t\t178.16\n",
      "Average Bracket Round Scores:\t[32, 32, 31, 30, 29, 23]\n",
      "Max Bracket Score:\t\t183\n",
      "Max Bracket Round Scores:\t[32, 32, 32, 32, 30, 25]\n",
      "\n",
      "Champion\n",
      "YEAR       2025\n",
      "TEAM     Auburn\n",
      "SEED          1\n",
      "ROUND         0\n",
      "Name: 1141, dtype: object\n",
      "\n",
      "\n",
      "Finals\n",
      "YEAR     2025\n",
      "TEAM     Duke\n",
      "SEED        1\n",
      "ROUND       0\n",
      "Name: 1132, dtype: object\n",
      "\n",
      "\n",
      "Final Four\n",
      "YEAR         2025\n",
      "TEAM     Maryland\n",
      "SEED            4\n",
      "ROUND           0\n",
      "Name: 1117, dtype: object\n",
      "\n",
      "YEAR        2025\n",
      "TEAM     Houston\n",
      "SEED           1\n",
      "ROUND          0\n",
      "Name: 1126, dtype: object\n",
      "\n",
      "\n",
      "Elite Eight\n",
      "YEAR         2025\n",
      "TEAM     Iowa St.\n",
      "SEED            3\n",
      "ROUND           0\n",
      "Name: 1124, dtype: object\n",
      "\n",
      "YEAR           2025\n",
      "TEAM     Texas Tech\n",
      "SEED              3\n",
      "ROUND             0\n",
      "Name: 1091, dtype: object\n",
      "\n",
      "YEAR        2025\n",
      "TEAM     Alabama\n",
      "SEED           2\n",
      "ROUND          0\n",
      "Name: 1146, dtype: object\n",
      "\n",
      "YEAR         2025\n",
      "TEAM     Illinois\n",
      "SEED            6\n",
      "ROUND           0\n",
      "Name: 1125, dtype: object\n",
      "\n",
      "\n",
      "Sweet Sixteen\n",
      "YEAR          2025\n",
      "TEAM     Texas A&M\n",
      "SEED             4\n",
      "ROUND            0\n",
      "Name: 1092, dtype: object\n",
      "\n",
      "YEAR             2025\n",
      "TEAM     Michigan St.\n",
      "SEED                2\n",
      "ROUND               0\n",
      "Name: 1113, dtype: object\n",
      "\n",
      "YEAR            2025\n",
      "TEAM     Connecticut\n",
      "SEED               8\n",
      "ROUND              0\n",
      "Name: 1135, dtype: object\n",
      "\n",
      "YEAR           2025\n",
      "TEAM     St. John's\n",
      "SEED              2\n",
      "ROUND            32\n",
      "Name: 1095, dtype: object\n",
      "\n",
      "YEAR        2025\n",
      "TEAM     Arizona\n",
      "SEED           4\n",
      "ROUND          0\n",
      "Name: 1143, dtype: object\n",
      "\n",
      "YEAR          2025\n",
      "TEAM     Wisconsin\n",
      "SEED             3\n",
      "ROUND            0\n",
      "Name: 1083, dtype: object\n",
      "\n",
      "YEAR       2025\n",
      "TEAM     Purdue\n",
      "SEED          4\n",
      "ROUND         0\n",
      "Name: 1101, dtype: object\n",
      "\n",
      "YEAR     2025\n",
      "TEAM     UCLA\n",
      "SEED        7\n",
      "ROUND       0\n",
      "Name: 1088, dtype: object\n",
      "\n",
      "\n",
      "Round of 32\n",
      "YEAR           2025\n",
      "TEAM     Louisville\n",
      "SEED              8\n",
      "ROUND            64\n",
      "Name: 1119, dtype: object\n",
      "\n",
      "YEAR             2025\n",
      "TEAM     UC San Diego\n",
      "SEED               12\n",
      "ROUND              64\n",
      "Name: 1089, dtype: object\n",
      "\n",
      "YEAR            2025\n",
      "TEAM     Mississippi\n",
      "SEED               6\n",
      "ROUND              0\n",
      "Name: 1112, dtype: object\n",
      "\n",
      "YEAR          2025\n",
      "TEAM     Marquette\n",
      "SEED             7\n",
      "ROUND           64\n",
      "Name: 1118, dtype: object\n",
      "\n",
      "YEAR        2025\n",
      "TEAM     Florida\n",
      "SEED           1\n",
      "ROUND          0\n",
      "Name: 1131, dtype: object\n",
      "\n",
      "YEAR             2025\n",
      "TEAM     Colorado St.\n",
      "SEED               12\n",
      "ROUND               0\n",
      "Name: 1136, dtype: object\n",
      "\n",
      "YEAR      2025\n",
      "TEAM     Drake\n",
      "SEED        11\n",
      "ROUND        0\n",
      "Name: 1133, dtype: object\n",
      "\n",
      "YEAR       2025\n",
      "TEAM     Kansas\n",
      "SEED          7\n",
      "ROUND        64\n",
      "Name: 1123, dtype: object\n",
      "\n",
      "YEAR       2025\n",
      "TEAM     Baylor\n",
      "SEED          9\n",
      "ROUND         0\n",
      "Name: 1140, dtype: object\n",
      "\n",
      "YEAR        2025\n",
      "TEAM     Liberty\n",
      "SEED          12\n",
      "ROUND         64\n",
      "Name: 1121, dtype: object\n",
      "\n",
      "YEAR     2025\n",
      "TEAM      VCU\n",
      "SEED       11\n",
      "ROUND      64\n",
      "Name: 1084, dtype: object\n",
      "\n",
      "YEAR             2025\n",
      "TEAM     Saint Mary's\n",
      "SEED                7\n",
      "ROUND               0\n",
      "Name: 1098, dtype: object\n",
      "\n",
      "YEAR        2025\n",
      "TEAM     Georgia\n",
      "SEED           9\n",
      "ROUND         64\n",
      "Name: 1130, dtype: object\n",
      "\n",
      "YEAR            2025\n",
      "TEAM     McNeese St.\n",
      "SEED              12\n",
      "ROUND              0\n",
      "Name: 1116, dtype: object\n",
      "\n",
      "YEAR         2025\n",
      "TEAM     Kentucky\n",
      "SEED            3\n",
      "ROUND           0\n",
      "Name: 1122, dtype: object\n",
      "\n",
      "YEAR          2025\n",
      "TEAM     Tennessee\n",
      "SEED             2\n",
      "ROUND            0\n",
      "Name: 1094, dtype: object\n",
      "\n",
      "\n"
     ]
    }
   ],
   "source": [
    "model, X_train, y_train, X_test, y_test, team_key, test_case, avg_score, max_score = simulate_brackets(input_directory = dir, year = YEAR, n = 25, n_mod = 5)\n",
    "teams, preds = tourney_sim_test(test_case, X_test, model, team_key, True)\n",
    "y_test: pd.Series = y_test.loc[teams]\n",
    "# analysis(y_test, preds)"
   ]
  },
  {
   "cell_type": "markdown",
   "metadata": {},
   "source": [
    "Baseline"
   ]
  },
  {
   "cell_type": "code",
   "execution_count": 5,
   "metadata": {},
   "outputs": [
    {
     "name": "stdout",
     "output_type": "stream",
     "text": [
      "Confusion Matrix:\n"
     ]
    },
    {
     "data": {
      "image/png": "[encoded data removed]",
      "text/plain": [
       "<Figure size 640x480 with 2 Axes>"
      ]
     },
     "metadata": {},
     "output_type": "display_data"
    },
    {
     "name": "stdout",
     "output_type": "stream",
     "text": [
      "\n",
      "Bracket Score: (179, [32, 32, 32, 28, 30, 25])\n",
      "\n",
      "R Score: 0.2571787397668073\n",
      "\n",
      "Accuracy Score: 0.390625\n",
      "\n"
     ]
    }
   ],
   "source": [
    "teams, preds = tourney_sim_baseline(test_case, X_test, team_key, False)\n",
    "y_test: pd.Series = y_test.loc[teams]\n",
    "analysis(y_test, preds)"
   ]
  },
  {
   "cell_type": "markdown",
   "metadata": {},
   "source": [
    "Perfect"
   ]
  },
  {
   "cell_type": "code",
   "execution_count": null,
   "metadata": {},
   "outputs": [
    {
     "name": "stdout",
     "output_type": "stream",
     "text": [
      "Confusion Matrix:\n"
     ]
    },
    {
     "data": {
      "image/png": "[encoded data removed]",
      "text/plain": [
       "<Figure size 640x480 with 2 Axes>"
      ]
     },
     "metadata": {},
     "output_type": "display_data"
    },
    {
     "name": "stdout",
     "output_type": "stream",
     "text": [
      "\n",
      "Bracket Score: (192, [32, 32, 32, 32, 32, 32])\n",
      "\n",
      "R Score: 0.7255488712478293\n",
      "\n",
      "Accuracy Score: 0.515625\n",
      "\n"
     ]
    }
   ],
   "source": [
    "teams, preds = tourney_sim_perfect(test_case, X_test, team_key, False)\n",
    "y_test: pd.Series = y_test.loc[teams]\n",
    "analysis(y_test, preds)"
   ]
  }
 ],
 "metadata": {
  "kernelspec": {
   "display_name": "3.12.2",
   "language": "python",
   "name": "python3"
  },
  "language_info": {
   "codemirror_mode": {
    "name": "ipython",
    "version": 3
   },
   "file_extension": ".py",
   "mimetype": "text/x-python",
   "name": "python",
   "nbconvert_exporter": "python",
   "pygments_lexer": "ipython3",
   "version": "3.12.2"
  }
 },
 "nbformat": 4,
 "nbformat_minor": 2
}
