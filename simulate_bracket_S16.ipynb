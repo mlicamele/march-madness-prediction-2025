{
 "cells": [
  {
   "cell_type": "code",
   "execution_count": 1,
   "metadata": {},
   "outputs": [],
   "source": [
    "from funcs.sims_S16 import simulate_bracket"
   ]
  },
  {
   "cell_type": "code",
   "execution_count": 82,
   "metadata": {},
   "outputs": [
    {
     "name": "stdout",
     "output_type": "stream",
     "text": [
      "Champion\n",
      "YEAR       2025\n",
      "TEAM     Auburn\n",
      "SEED          1\n",
      "ROUND         0\n",
      "Name: 1141, dtype: object\n",
      "\n",
      "\n",
      "Finals\n",
      "YEAR        2025\n",
      "TEAM     Alabama\n",
      "SEED           2\n",
      "ROUND          0\n",
      "Name: 1146, dtype: object\n",
      "\n",
      "\n",
      "Final Four\n",
      "YEAR        2025\n",
      "TEAM     Florida\n",
      "SEED           1\n",
      "ROUND          0\n",
      "Name: 1131, dtype: object\n",
      "\n",
      "YEAR       2025\n",
      "TEAM     Purdue\n",
      "SEED          4\n",
      "ROUND         0\n",
      "Name: 1101, dtype: object\n",
      "\n",
      "\n",
      "Elite Eight\n",
      "YEAR            2025\n",
      "TEAM     Mississippi\n",
      "SEED               6\n",
      "ROUND              0\n",
      "Name: 1112, dtype: object\n",
      "\n",
      "YEAR           2025\n",
      "TEAM     Texas Tech\n",
      "SEED              3\n",
      "ROUND             0\n",
      "Name: 1091, dtype: object\n",
      "\n",
      "YEAR        2025\n",
      "TEAM     Arizona\n",
      "SEED           4\n",
      "ROUND          0\n",
      "Name: 1143, dtype: object\n",
      "\n",
      "YEAR         2025\n",
      "TEAM     Kentucky\n",
      "SEED            3\n",
      "ROUND           0\n",
      "Name: 1122, dtype: object\n",
      "\n",
      "\n"
     ]
    }
   ],
   "source": [
    "_ = simulate_bracket(2025, \"processed_data\")"
   ]
  }
 ],
 "metadata": {
  "kernelspec": {
   "display_name": "3.12.2",
   "language": "python",
   "name": "python3"
  },
  "language_info": {
   "codemirror_mode": {
    "name": "ipython",
    "version": 3
   },
   "file_extension": ".py",
   "mimetype": "text/x-python",
   "name": "python",
   "nbconvert_exporter": "python",
   "pygments_lexer": "ipython3",
   "version": "3.12.2"
  }
 },
 "nbformat": 4,
 "nbformat_minor": 2
}
