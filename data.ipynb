{
 "cells": [
  {
   "cell_type": "code",
   "execution_count": 21,
   "metadata": {},
   "outputs": [],
   "source": [
    "from funcs.data import process_years"
   ]
  },
  {
   "cell_type": "code",
   "execution_count": 22,
   "metadata": {},
   "outputs": [],
   "source": [
    "names = [\"AP6\",     \"bart_a\",   \"bart_h\",   \"bart_n\",   \"conf\",     \"evan\",     \"hc_rate\",      \"hc_index\",     \"ken_pre\",      \"pre\",      \"resume\",       \"seed\",     \"shooting\",     \"team_rank\",    \"s\",        \"rank\"]\n",
    "bools = [True,      True,       True,       True,       True,       True,       True,           True,           True,           True,       True,           True,       True,           True,           True,       True]"
   ]
  },
  {
   "cell_type": "code",
   "execution_count": 23,
   "metadata": {},
   "outputs": [],
   "source": [
    "def add_one_bool_list(bools: list):\n",
    "    carry = 1\n",
    "    base = 2\n",
    "\n",
    "    for i in range(len(bools)):\n",
    "        \n",
    "        bools[len(bools) - 1 - i] += carry\n",
    "\n",
    "        carry = int(bools[len(bools) - 1 - i] / base)\n",
    "        bools[len(bools) - 1 - i] = bools[len(bools) - 1 - i] % base\n",
    "    \n",
    "    bools = [True if i == 1 else False for i in bools]\n",
    "    return bools"
   ]
  },
  {
   "cell_type": "code",
   "execution_count": 24,
   "metadata": {},
   "outputs": [],
   "source": [
    "AP6, bart_a, bart_h, bart_n, conf, evan, hc_rate, hc_index, ken_pre, pre, resume, seed, shooting, team_rank, s, rank = bools\n",
    "\n",
    "process_years(\"data\", \"processed_data\", 2021, 2025, AP6, bart_a, bart_h, bart_n, conf, evan, hc_rate, hc_index, ken_pre, pre, resume, seed, shooting, team_rank, s, rank)"
   ]
  },
  {
   "cell_type": "code",
   "execution_count": 25,
   "metadata": {},
   "outputs": [],
   "source": [
    "# for j in range(2 ** len(bools)):\n",
    "#     dir = \"processed_data\"\n",
    "\n",
    "#     bools = add_one_bool_list(bools)\n",
    "\n",
    "#     for i in range(len(bools)):\n",
    "#         if bools[i]:\n",
    "#             dir += \"_\" + names[i]\n",
    "    \n",
    "#     AP6, bart_a, bart_h, bart_n, conf, evan, hc_rate, hc_index, ken_pre, pre, resume, seed, shooting, team_rank, s, rank = bools\n",
    "\n",
    "#     print(dir)\n",
    "\n",
    "#     process_years(\"data\", dir, 2022, 2024, AP6, bart_a, bart_h, bart_n, conf, evan, hc_rate, hc_index, ken_pre, pre, resume, seed, shooting, team_rank, s, rank)"
   ]
  }
 ],
 "metadata": {
  "kernelspec": {
   "display_name": "3.12.2",
   "language": "python",
   "name": "python3"
  },
  "language_info": {
   "codemirror_mode": {
    "name": "ipython",
    "version": 3
   },
   "file_extension": ".py",
   "mimetype": "text/x-python",
   "name": "python",
   "nbconvert_exporter": "python",
   "pygments_lexer": "ipython3",
   "version": "3.12.2"
  }
 },
 "nbformat": 4,
 "nbformat_minor": 2
}
